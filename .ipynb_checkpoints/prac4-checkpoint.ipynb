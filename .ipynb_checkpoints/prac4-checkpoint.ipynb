{
 "cells": [
  {
   "cell_type": "code",
   "execution_count": null,
   "id": "f15b3ee5-3204-44ab-914d-22360677916b",
   "metadata": {},
   "outputs": [],
   "source": [
    "from pyspark import SparkContext\n",
    "sc = SparkContext()"
   ]
  },
  {
   "cell_type": "code",
   "execution_count": null,
   "id": "83813b21-3d27-4c5e-9603-d30422476ff2",
   "metadata": {},
   "outputs": [],
   "source": [
    "!head -1 201704_Usage_Bicimad.json"
   ]
  },
  {
   "cell_type": "code",
   "execution_count": null,
   "id": "89f2fd56-3686-4f30-aac4-966ca8c02c12",
   "metadata": {},
   "outputs": [],
   "source": [
    "import json\n",
    "import datetime"
   ]
  },
  {
   "cell_type": "code",
   "execution_count": null,
   "id": "d405c532-4de7-49eb-b89b-1d372e9bdb4e",
   "metadata": {},
   "outputs": [],
   "source": [
    "def mapper(line):\n",
    "    data = json.loads(line)\n",
    "    usert = data['user_type']\n",
    "    time = data['travel_time']\n",
    "    date = convert_date(data['unplug_hourTime'])\n",
    "    return usert, time, date"
   ]
  },
  {
   "cell_type": "code",
   "execution_count": null,
   "id": "55436c9f-0d34-48ce-bb07-6912f2a13feb",
   "metadata": {},
   "outputs": [],
   "source": [
    "def convert_date(date):\n",
    "    if isinstance(date, str):\n",
    "        date = date.replace(\"Z\",\"+0000\")\n",
    "        date = datetime.datetime.strptime(date, \"%Y-%m-%dT%H:%M:%S%z\")\n",
    "    else:\n",
    "        date = date['$date']\n",
    "        date = datetime.datetime.strptime(date, \"%Y-%m-%dT%H:%M:%S.%f%z\")\n",
    "    return (date.month,date.hour)"
   ]
  },
  {
   "cell_type": "code",
   "execution_count": null,
   "id": "932ff24c-b38b-49a2-aab2-18750ce768a3",
   "metadata": {},
   "outputs": [],
   "source": [
    "convert_date({ \"$date\" : \"2019-06-01T12:40:00.000+0200\" })"
   ]
  },
  {
   "cell_type": "code",
   "execution_count": null,
   "id": "d240cbdc-2d7e-4e4a-a3de-ca1edfcca7e9",
   "metadata": {},
   "outputs": [],
   "source": [
    "rdd_base = sc.textFile('sample_10e3.json')"
   ]
  },
  {
   "cell_type": "code",
   "execution_count": null,
   "id": "5ac00133-c4df-4de2-80a2-b8ea6ff0aff2",
   "metadata": {},
   "outputs": [],
   "source": [
    "rdd = rdd_base.map(mapper)"
   ]
  },
  {
   "cell_type": "code",
   "execution_count": null,
   "id": "39286ed8-41a7-4044-a40d-4edbd00b8a69",
   "metadata": {},
   "outputs": [],
   "source": [
    "rdd.countByKey()\n",
    "#0: no ha sido posible determinarlo, 1: pase anual, 2: ocasional, 3: empresa"
   ]
  },
  {
   "cell_type": "code",
   "execution_count": null,
   "id": "cbfc0545-e97a-4414-a32e-c80036915d9b",
   "metadata": {},
   "outputs": [],
   "source": [
    "rdd.groupByKey()\n",
    "rdd.take(10)"
   ]
  },
  {
   "cell_type": "code",
   "execution_count": null,
   "id": "c3d095cd-6ba9-4ee1-9f63-6ec867536d10",
   "metadata": {},
   "outputs": [],
   "source": [
    "rdd_user1 = rdd.filter(lambda x: x[0]==1).map(lambda x: (x[1],tuple(x[2])))\n",
    "rdd_user2 = rdd.filter(lambda x: x[0]==2).map(lambda x: (x[1],tuple(x[2])))\n",
    "rdd_user3 = rdd.filter(lambda x: x[0]==3).map(lambda x: (x[1],tuple(x[2])))"
   ]
  },
  {
   "cell_type": "code",
   "execution_count": null,
   "id": "2230d1cf-f4f3-4ed2-9c5a-ac33d24c9972",
   "metadata": {},
   "outputs": [],
   "source": [
    "rdd_user1.take(3)"
   ]
  },
  {
   "cell_type": "code",
   "execution_count": null,
   "id": "dff19cbd-6f04-43e3-ace7-f35f962385c8",
   "metadata": {},
   "outputs": [],
   "source": []
  },
  {
   "cell_type": "code",
   "execution_count": null,
   "id": "e82ecf89",
   "metadata": {},
   "outputs": [],
   "source": []
  }
 ],
 "metadata": {
  "kernelspec": {
   "display_name": "Python 3 (ipykernel)",
   "language": "python",
   "name": "python3"
  },
  "language_info": {
   "codemirror_mode": {
    "name": "ipython",
    "version": 3
   },
   "file_extension": ".py",
   "mimetype": "text/x-python",
   "name": "python",
   "nbconvert_exporter": "python",
   "pygments_lexer": "ipython3",
   "version": "3.8.10"
  }
 },
 "nbformat": 4,
 "nbformat_minor": 5
}
