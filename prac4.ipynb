{
 "cells": [
  {
   "cell_type": "code",
   "execution_count": 3,
   "id": "f15b3ee5-3204-44ab-914d-22360677916b",
   "metadata": {},
   "outputs": [
    {
     "name": "stderr",
     "output_type": "stream",
     "text": [
      "22/05/07 19:39:36 WARN Utils: Your hostname, Equipo resolves to a loopback address: 127.0.1.1; using 192.168.1.20 instead (on interface wlo1)\n",
      "22/05/07 19:39:36 WARN Utils: Set SPARK_LOCAL_IP if you need to bind to another address\n",
      "WARNING: An illegal reflective access operation has occurred\n",
      "WARNING: Illegal reflective access by org.apache.spark.unsafe.Platform (file:/home/daniel/.local/lib/python3.8/site-packages/pyspark/jars/spark-unsafe_2.12-3.2.1.jar) to constructor java.nio.DirectByteBuffer(long,int)\n",
      "WARNING: Please consider reporting this to the maintainers of org.apache.spark.unsafe.Platform\n",
      "WARNING: Use --illegal-access=warn to enable warnings of further illegal reflective access operations\n",
      "WARNING: All illegal access operations will be denied in a future release\n",
      "Using Spark's default log4j profile: org/apache/spark/log4j-defaults.properties\n",
      "Setting default log level to \"WARN\".\n",
      "To adjust logging level use sc.setLogLevel(newLevel). For SparkR, use setLogLevel(newLevel).\n",
      "22/05/07 19:39:38 WARN NativeCodeLoader: Unable to load native-hadoop library for your platform... using builtin-java classes where applicable\n"
     ]
    }
   ],
   "source": [
    "from pyspark import SparkContext\n",
    "sc = SparkContext()"
   ]
  },
  {
   "cell_type": "code",
   "execution_count": 4,
   "id": "89f2fd56-3686-4f30-aac4-966ca8c02c12",
   "metadata": {},
   "outputs": [],
   "source": [
    "import json\n",
    "import datetime"
   ]
  },
  {
   "cell_type": "code",
   "execution_count": 5,
   "id": "d405c532-4de7-49eb-b89b-1d372e9bdb4e",
   "metadata": {},
   "outputs": [],
   "source": [
    "def mapper(line):\n",
    "    data = json.loads(line)\n",
    "    usert = data['user_type']\n",
    "    time = data['travel_time']\n",
    "    date = convert_date(data['unplug_hourTime'])\n",
    "    return usert, time, date"
   ]
  },
  {
   "cell_type": "code",
   "execution_count": 6,
   "id": "55436c9f-0d34-48ce-bb07-6912f2a13feb",
   "metadata": {},
   "outputs": [],
   "source": [
    "def convert_date(date):\n",
    "    if isinstance(date, str):\n",
    "        date = date.replace(\"Z\",\"+0000\")\n",
    "        date = datetime.datetime.strptime(date, \"%Y-%m-%dT%H:%M:%S%z\")\n",
    "    else:\n",
    "        date = date['$date']\n",
    "        date = datetime.datetime.strptime(date, \"%Y-%m-%dT%H:%M:%S.%f%z\")\n",
    "    return (date.month,date.hour)"
   ]
  },
  {
   "cell_type": "code",
   "execution_count": 6,
   "id": "932ff24c-b38b-49a2-aab2-18750ce768a3",
   "metadata": {},
   "outputs": [
    {
     "data": {
      "text/plain": [
       "(6, 12)"
      ]
     },
     "execution_count": 6,
     "metadata": {},
     "output_type": "execute_result"
    }
   ],
   "source": [
    "convert_date({ \"$date\" : \"2019-06-01T12:40:00.000+0200\" })"
   ]
  },
  {
   "cell_type": "code",
   "execution_count": 7,
   "id": "d240cbdc-2d7e-4e4a-a3de-ca1edfcca7e9",
   "metadata": {},
   "outputs": [],
   "source": [
    "rdd_base = sc.textFile('sample_10e3.json')"
   ]
  },
  {
   "cell_type": "code",
   "execution_count": 8,
   "id": "5ac00133-c4df-4de2-80a2-b8ea6ff0aff2",
   "metadata": {},
   "outputs": [],
   "source": [
    "rdd = rdd_base.map(mapper)"
   ]
  },
  {
   "cell_type": "code",
   "execution_count": 9,
   "id": "39286ed8-41a7-4044-a40d-4edbd00b8a69",
   "metadata": {},
   "outputs": [
    {
     "name": "stderr",
     "output_type": "stream",
     "text": [
      "                                                                                \r"
     ]
    },
    {
     "data": {
      "text/plain": [
       "defaultdict(int, {1: 954, 2: 10, 3: 36})"
      ]
     },
     "execution_count": 9,
     "metadata": {},
     "output_type": "execute_result"
    }
   ],
   "source": [
    "rdd.countByKey()\n",
    "#0: no ha sido posible determinarlo, 1: pase anual, 2: ocasional, 3: empresa"
   ]
  },
  {
   "cell_type": "code",
   "execution_count": 10,
   "id": "cbfc0545-e97a-4414-a32e-c80036915d9b",
   "metadata": {},
   "outputs": [
    {
     "data": {
      "text/plain": [
       "[(1, 219, (6, 0)),\n",
       " (1, 359, (6, 0)),\n",
       " (1, 375, (6, 0)),\n",
       " (1, 264, (6, 0)),\n",
       " (1, 367, (6, 0)),\n",
       " (1, 174, (6, 0)),\n",
       " (1, 308, (6, 0)),\n",
       " (1, 462, (6, 0)),\n",
       " (1, 482, (6, 0)),\n",
       " (1, 480, (6, 0))]"
      ]
     },
     "execution_count": 10,
     "metadata": {},
     "output_type": "execute_result"
    }
   ],
   "source": [
    "rdd.groupByKey()\n",
    "rdd.take(10)"
   ]
  },
  {
   "cell_type": "code",
   "execution_count": 11,
   "id": "c3d095cd-6ba9-4ee1-9f63-6ec867536d10",
   "metadata": {},
   "outputs": [],
   "source": [
    "rdd_user1 = rdd.filter(lambda x: x[0]==1).map(lambda x: ((x[2][0],x[2][1]),x[1]))#mes, hora 24h, tiempo seg.\n",
    "rdd_user2 = rdd.filter(lambda x: x[0]==2).map(lambda x: ((x[2][0],x[2][1]),x[1]))\n",
    "rdd_user3 = rdd.filter(lambda x: x[0]==3).map(lambda x: ((x[2][0],x[2][1]),x[1]))"
   ]
  },
  {
   "cell_type": "code",
   "execution_count": 12,
   "id": "2230d1cf-f4f3-4ed2-9c5a-ac33d24c9972",
   "metadata": {},
   "outputs": [
    {
     "data": {
      "text/plain": [
       "[((6, 0), 219), ((6, 0), 359), ((6, 0), 375)]"
      ]
     },
     "execution_count": 12,
     "metadata": {},
     "output_type": "execute_result"
    }
   ],
   "source": [
    "rdd_user1.take(3)"
   ]
  },
  {
   "cell_type": "code",
   "execution_count": 13,
   "id": "97bc3ee0-32b1-48cc-9ef4-0606e6cfa18c",
   "metadata": {},
   "outputs": [
    {
     "data": {
      "text/plain": [
       "defaultdict(int, {(6, 0): 4, (6, 1): 6})"
      ]
     },
     "execution_count": 13,
     "metadata": {},
     "output_type": "execute_result"
    }
   ],
   "source": [
    "rdd_user2.countByKey() #nº de viajes por horas del usuario tipo2"
   ]
  },
  {
   "cell_type": "code",
   "execution_count": 14,
   "id": "81a42744-05bb-4ea8-9b44-746669eee63d",
   "metadata": {},
   "outputs": [
    {
     "name": "stderr",
     "output_type": "stream",
     "text": [
      "                                                                                \r"
     ]
    },
    {
     "data": {
      "text/plain": [
       "[((6, 0), 1046.25), ((6, 1), 710.3333333333334)]"
      ]
     },
     "execution_count": 14,
     "metadata": {},
     "output_type": "execute_result"
    }
   ],
   "source": [
    "contador=(0,0)#tiempo medio del viaje de tipo2\n",
    "rdd_user2.aggregateByKey(contador, lambda x,y: (x[0]+y, x[1]+1), lambda x,y: (x[0]+y[0], x[1]+y[1])).\\\n",
    "map(lambda x: (x[0], x[1][0]/x[1][1])).sortByKey().collect()"
   ]
  },
  {
   "cell_type": "code",
   "execution_count": 26,
   "id": "dff19cbd-6f04-43e3-ace7-f35f962385c8",
   "metadata": {},
   "outputs": [
    {
     "name": "stdout",
     "output_type": "stream",
     "text": [
      "953 3093 3162\n"
     ]
    }
   ],
   "source": [
    "s1 = sum(rdd_user1.map(lambda x: x[0]).take(3))\n",
    "s2 = sum(rdd_user2.map(lambda x: x[0]).take(3))\n",
    "s3 = sum(rdd_user3.map(lambda x: x[0]).take(3))\n",
    "print(s1,s2,s3)"
   ]
  }
 ],
 "metadata": {
  "interpreter": {
   "hash": "916dbcbb3f70747c44a77c7bcd40155683ae19c65e1c03b4aa3499c5328201f1"
  },
  "kernelspec": {
   "display_name": "Python 3 (ipykernel)",
   "language": "python",
   "name": "python3"
  },
  "language_info": {
   "codemirror_mode": {
    "name": "ipython",
    "version": 3
   },
   "file_extension": ".py",
   "mimetype": "text/x-python",
   "name": "python",
   "nbconvert_exporter": "python",
   "pygments_lexer": "ipython3",
   "version": "3.8.10"
  }
 },
 "nbformat": 4,
 "nbformat_minor": 5
}
