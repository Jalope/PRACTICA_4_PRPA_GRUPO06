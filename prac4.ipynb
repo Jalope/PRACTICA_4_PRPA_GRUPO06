{
 "cells": [
  {
   "cell_type": "code",
   "execution_count": 3,
   "id": "f15b3ee5-3204-44ab-914d-22360677916b",
   "metadata": {},
   "outputs": [
    {
     "name": "stderr",
     "output_type": "stream",
     "text": [
      "22/05/05 10:18:26 WARN Utils: Your hostname, Equipo resolves to a loopback address: 127.0.1.1; using 10.8.120.208 instead (on interface wlo1)\n",
      "22/05/05 10:18:26 WARN Utils: Set SPARK_LOCAL_IP if you need to bind to another address\n",
      "WARNING: An illegal reflective access operation has occurred\n",
      "WARNING: Illegal reflective access by org.apache.spark.unsafe.Platform (file:/home/daniel/.local/lib/python3.8/site-packages/pyspark/jars/spark-unsafe_2.12-3.2.1.jar) to constructor java.nio.DirectByteBuffer(long,int)\n",
      "WARNING: Please consider reporting this to the maintainers of org.apache.spark.unsafe.Platform\n",
      "WARNING: Use --illegal-access=warn to enable warnings of further illegal reflective access operations\n",
      "WARNING: All illegal access operations will be denied in a future release\n",
      "Using Spark's default log4j profile: org/apache/spark/log4j-defaults.properties\n",
      "Setting default log level to \"WARN\".\n",
      "To adjust logging level use sc.setLogLevel(newLevel). For SparkR, use setLogLevel(newLevel).\n",
      "22/05/05 10:18:28 WARN NativeCodeLoader: Unable to load native-hadoop library for your platform... using builtin-java classes where applicable\n"
     ]
    }
   ],
   "source": [
    "from pyspark import SparkContext\n",
    "sc = SparkContext()"
   ]
  },
  {
   "cell_type": "code",
   "execution_count": 2,
   "id": "83813b21-3d27-4c5e-9603-d30422476ff2",
   "metadata": {},
   "outputs": [
    {
     "name": "stdout",
     "output_type": "stream",
     "text": [
      "{ \"_id\" : { \"$oid\" : \"58e5e5e7865e9c221ca45898\" }, \"user_day_code\" : \"df843a74bba22d2b363e4e96f74b99391276e71dfea92e0a11de4fe552f38173\", \"idplug_base\" : 17, \"user_type\" : 1, \"idunplug_base\" : 1, \"travel_time\" : 169, \"idunplug_station\" : 41, \"ageRange\" : 4, \"idplug_station\" : 50, \"unplug_hourTime\" : { \"$date\" : \"2017-04-01T01:00:00.000+0200\" }, \"zip_code\" : \"28005\" }\n"
     ]
    }
   ],
   "source": [
    "!head -1 201704_Usage_Bicimad.json"
   ]
  },
  {
   "cell_type": "code",
   "execution_count": 24,
   "id": "89f2fd56-3686-4f30-aac4-966ca8c02c12",
   "metadata": {},
   "outputs": [],
   "source": [
    "import json\n",
    "import datetime"
   ]
  },
  {
   "cell_type": "code",
   "execution_count": 37,
   "id": "d405c532-4de7-49eb-b89b-1d372e9bdb4e",
   "metadata": {},
   "outputs": [],
   "source": [
    "def mapper(line):\n",
    "    data = json.loads(line)\n",
    "    usert = data['user_type']\n",
    "    time = data['travel_time']\n",
    "    date = convert_date(data['unplug_hourTime'])\n",
    "    return usert, time, date"
   ]
  },
  {
   "cell_type": "code",
   "execution_count": 70,
   "id": "55436c9f-0d34-48ce-bb07-6912f2a13feb",
   "metadata": {},
   "outputs": [],
   "source": [
    "def convert_date(date):\n",
    "    if isinstance(date, str):\n",
    "        date = date.replace(\"Z\",\"+0000\")\n",
    "        date = datetime.datetime.strptime(date, \"%Y-%m-%dT%H:%M:%S%z\")\n",
    "    else:\n",
    "        date = date['$date']\n",
    "        date = datetime.datetime.strptime(date, \"%Y-%m-%dT%H:%M:%S.%f%z\")\n",
    "    return (date.month,date.hour)"
   ]
  },
  {
   "cell_type": "code",
   "execution_count": 71,
   "id": "932ff24c-b38b-49a2-aab2-18750ce768a3",
   "metadata": {},
   "outputs": [
    {
     "data": {
      "text/plain": [
       "(6, 12)"
      ]
     },
     "execution_count": 71,
     "metadata": {},
     "output_type": "execute_result"
    }
   ],
   "source": [
    "convert_date({ \"$date\" : \"2019-06-01T12:40:00.000+0200\" })"
   ]
  },
  {
   "cell_type": "code",
   "execution_count": 67,
   "id": "d240cbdc-2d7e-4e4a-a3de-ca1edfcca7e9",
   "metadata": {},
   "outputs": [],
   "source": [
    "rdd_base = sc.textFile('sample_10e3.json')"
   ]
  },
  {
   "cell_type": "code",
   "execution_count": 63,
   "id": "5ac00133-c4df-4de2-80a2-b8ea6ff0aff2",
   "metadata": {},
   "outputs": [],
   "source": [
    "rdd = rdd_base.map(mapper)"
   ]
  },
  {
   "cell_type": "code",
   "execution_count": 56,
   "id": "39286ed8-41a7-4044-a40d-4edbd00b8a69",
   "metadata": {},
   "outputs": [
    {
     "data": {
      "text/plain": [
       "defaultdict(int, {1: 954, 2: 10, 3: 36})"
      ]
     },
     "execution_count": 56,
     "metadata": {},
     "output_type": "execute_result"
    }
   ],
   "source": [
    "rdd.countByKey()\n",
    "#0: no ha sido posible determinarlo, 1: pase anual, 2: ocasional, 3: empresa"
   ]
  },
  {
   "cell_type": "code",
   "execution_count": 72,
   "id": "cbfc0545-e97a-4414-a32e-c80036915d9b",
   "metadata": {},
   "outputs": [
    {
     "data": {
      "text/plain": [
       "[(1, 219, (6, 0)),\n",
       " (1, 359, (6, 0)),\n",
       " (1, 375, (6, 0)),\n",
       " (1, 264, (6, 0)),\n",
       " (1, 367, (6, 0)),\n",
       " (1, 174, (6, 0)),\n",
       " (1, 308, (6, 0)),\n",
       " (1, 462, (6, 0)),\n",
       " (1, 482, (6, 0)),\n",
       " (1, 480, (6, 0))]"
      ]
     },
     "execution_count": 72,
     "metadata": {},
     "output_type": "execute_result"
    }
   ],
   "source": [
    "rdd.groupByKey()\n",
    "rdd.take(10)"
   ]
  },
  {
   "cell_type": "code",
   "execution_count": 58,
   "id": "c3d095cd-6ba9-4ee1-9f63-6ec867536d10",
   "metadata": {},
   "outputs": [],
   "source": [
    "rdd_user1 = rdd.filter(lambda x: x[0]==1).map(lambda x: (x[1],tuple(x[2:])))\n",
    "rdd_user2 = rdd.filter(lambda x: x[0]==2).map(lambda x: (x[1],tuple(x[2:])))\n",
    "rdd_user3 = rdd.filter(lambda x: x[0]==3).map(lambda x: (x[1],tuple(x[2:])))"
   ]
  },
  {
   "cell_type": "code",
   "execution_count": 74,
   "id": "2230d1cf-f4f3-4ed2-9c5a-ac33d24c9972",
   "metadata": {},
   "outputs": [
    {
     "data": {
      "text/plain": [
       "[(219, ((6, 0),)), (359, ((6, 0),)), (375, ((6, 0),))]"
      ]
     },
     "execution_count": 74,
     "metadata": {},
     "output_type": "execute_result"
    }
   ],
   "source": [
    "rdd_user1.take(3)"
   ]
  },
  {
   "cell_type": "code",
   "execution_count": null,
   "id": "dff19cbd-6f04-43e3-ace7-f35f962385c8",
   "metadata": {},
   "outputs": [],
   "source": []
  }
 ],
 "metadata": {
  "kernelspec": {
   "display_name": "Python 3 (ipykernel)",
   "language": "python",
   "name": "python3"
  },
  "language_info": {
   "codemirror_mode": {
    "name": "ipython",
    "version": 3
   },
   "file_extension": ".py",
   "mimetype": "text/x-python",
   "name": "python",
   "nbconvert_exporter": "python",
   "pygments_lexer": "ipython3",
   "version": "3.8.10"
  }
 },
 "nbformat": 4,
 "nbformat_minor": 5
}
